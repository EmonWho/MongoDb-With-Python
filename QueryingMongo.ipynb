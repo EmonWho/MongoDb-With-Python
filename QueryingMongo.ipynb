{
 "cells": [
  {
   "cell_type": "code",
   "execution_count": 1,
   "metadata": {},
   "outputs": [],
   "source": [
    "import pymongo\n",
    "\n",
    "client=pymongo.MongoClient('mongodb://127.0.0.1:27017/')\n",
    "\n",
    "mydb=client['Employee']\n",
    "empinfo=mydb.employeeinformation"
   ]
  },
  {
   "cell_type": "code",
   "execution_count": 3,
   "metadata": {},
   "outputs": [],
   "source": [
    "records=[{\n",
    "        'firstname':'John',\n",
    "        'lastname':'Doe',\n",
    "        'department':'Analytics',\n",
    "        'qualification':'statistics',\n",
    "        'age':35\n",
    "        \n",
    "        },\n",
    "         {\n",
    "        'firstname':'John ',\n",
    "        'lastname':'Smith',\n",
    "        'department':'Analytics',\n",
    "        'qualification':'masters',\n",
    "        'age':30\n",
    "        \n",
    "        },\n",
    "        {\n",
    "        'firstname':'Manish',\n",
    "        'lastname':'Sekander',\n",
    "        'department':'Analytics',\n",
    "        'qualification':'phd',\n",
    "        'age':35\n",
    "        \n",
    "        },\n",
    "        {\n",
    "        'firstname':'Rahman',\n",
    "        'lastname':'Emon',\n",
    "        'department':'Analytics',\n",
    "        'qualification':'master',\n",
    "        'age':24\n",
    "        \n",
    "        }]"
   ]
  },
  {
   "cell_type": "code",
   "execution_count": 4,
   "metadata": {},
   "outputs": [
    {
     "data": {
      "text/plain": [
       "<pymongo.results.InsertManyResult at 0x1fe2bbd6d80>"
      ]
     },
     "execution_count": 4,
     "metadata": {},
     "output_type": "execute_result"
    }
   ],
   "source": [
    "empinfo.insert_many(records)"
   ]
  },
  {
   "cell_type": "code",
   "execution_count": 5,
   "metadata": {},
   "outputs": [
    {
     "data": {
      "text/plain": [
       "{'_id': ObjectId('622e3c0efa24ba988444bf8f'),\n",
       " 'firstname': 'John',\n",
       " 'lastname': 'Doe',\n",
       " 'department': 'Analytics',\n",
       " 'qualification': 'statistics',\n",
       " 'age': 35}"
      ]
     },
     "execution_count": 5,
     "metadata": {},
     "output_type": "execute_result"
    }
   ],
   "source": [
    "## Simple way o Quering\n",
    "empinfo.find_one()"
   ]
  },
  {
   "cell_type": "code",
   "execution_count": 8,
   "metadata": {},
   "outputs": [
    {
     "name": "stdout",
     "output_type": "stream",
     "text": [
      "{'_id': ObjectId('622e3c0efa24ba988444bf8f'), 'firstname': 'John', 'lastname': 'Doe', 'department': 'Analytics', 'qualification': 'statistics', 'age': 35}\n",
      "{'_id': ObjectId('622e3c0efa24ba988444bf90'), 'firstname': 'John ', 'lastname': 'Smith', 'department': 'Analytics', 'qualification': 'masters', 'age': 30}\n",
      "{'_id': ObjectId('622e3c0efa24ba988444bf91'), 'firstname': 'Manish', 'lastname': 'Sekander', 'department': 'Analytics', 'qualification': 'phd', 'age': 35}\n",
      "{'_id': ObjectId('622e3c0efa24ba988444bf92'), 'firstname': 'Rahman', 'lastname': 'Emon', 'department': 'Analytics', 'qualification': 'master', 'age': 24}\n"
     ]
    }
   ],
   "source": [
    "##Selct * from employee information\n",
    "for record in empinfo.find({}):\n",
    " print(record)\n"
   ]
  },
  {
   "cell_type": "code",
   "execution_count": 9,
   "metadata": {},
   "outputs": [
    {
     "name": "stdout",
     "output_type": "stream",
     "text": [
      "{'_id': ObjectId('622e3c0efa24ba988444bf92'), 'firstname': 'Rahman', 'lastname': 'Emon', 'department': 'Analytics', 'qualification': 'master', 'age': 24}\n"
     ]
    }
   ],
   "source": [
    "## query doccument based on equally condition\n",
    "## select * from employeeinformation where first name is Rahman\n",
    "for record in empinfo.find({'firstname':'Rahman'}):\n",
    "  print(record)\n"
   ]
  },
  {
   "cell_type": "code",
   "execution_count": 10,
   "metadata": {},
   "outputs": [
    {
     "name": "stdout",
     "output_type": "stream",
     "text": [
      "{'_id': ObjectId('622e3c0efa24ba988444bf91'), 'firstname': 'Manish', 'lastname': 'Sekander', 'department': 'Analytics', 'qualification': 'phd', 'age': 35}\n"
     ]
    }
   ],
   "source": [
    "## select * from employeeinformation where last name is Sekander \n",
    "\n",
    "for record in empinfo.find({'lastname':'Sekander'}):\n",
    "  print(record)"
   ]
  },
  {
   "cell_type": "code",
   "execution_count": 12,
   "metadata": {},
   "outputs": [
    {
     "name": "stdout",
     "output_type": "stream",
     "text": [
      "{'_id': ObjectId('622e3c0efa24ba988444bf91'), 'firstname': 'Manish', 'lastname': 'Sekander', 'department': 'Analytics', 'qualification': 'phd', 'age': 35}\n",
      "{'_id': ObjectId('622e3c0efa24ba988444bf92'), 'firstname': 'Rahman', 'lastname': 'Emon', 'department': 'Analytics', 'qualification': 'master', 'age': 24}\n"
     ]
    }
   ],
   "source": [
    "## query doccuments using query operators($in,$lt,$gt)\n",
    "for record in empinfo.find({'qualification':{'$in':['phd','master']}}):\n",
    "  print(record)\n"
   ]
  },
  {
   "cell_type": "code",
   "execution_count": 13,
   "metadata": {},
   "outputs": [
    {
     "name": "stdout",
     "output_type": "stream",
     "text": [
      "{'_id': ObjectId('622e3c0efa24ba988444bf8f'), 'firstname': 'John', 'lastname': 'Doe', 'department': 'Analytics', 'qualification': 'statistics', 'age': 35}\n",
      "{'_id': ObjectId('622e3c0efa24ba988444bf90'), 'firstname': 'John ', 'lastname': 'Smith', 'department': 'Analytics', 'qualification': 'masters', 'age': 30}\n",
      "{'_id': ObjectId('622e3c0efa24ba988444bf91'), 'firstname': 'Manish', 'lastname': 'Sekander', 'department': 'Analytics', 'qualification': 'phd', 'age': 35}\n",
      "{'_id': ObjectId('622e3c0efa24ba988444bf92'), 'firstname': 'Rahman', 'lastname': 'Emon', 'department': 'Analytics', 'qualification': 'master', 'age': 24}\n"
     ]
    }
   ],
   "source": [
    "for record in empinfo.find():\n",
    "  print(record)"
   ]
  },
  {
   "cell_type": "code",
   "execution_count": 16,
   "metadata": {},
   "outputs": [
    {
     "name": "stdout",
     "output_type": "stream",
     "text": [
      "{'_id': ObjectId('622e3c0efa24ba988444bf92'), 'firstname': 'Rahman', 'lastname': 'Emon', 'department': 'Analytics', 'qualification': 'master', 'age': 24}\n"
     ]
    }
   ],
   "source": [
    "## And and Query operators\n",
    "for record in empinfo.find({'qualification':'master','age':{'$lt':35}}):\n",
    "  print(record)"
   ]
  },
  {
   "cell_type": "code",
   "execution_count": 29,
   "metadata": {},
   "outputs": [
    {
     "name": "stdout",
     "output_type": "stream",
     "text": [
      "{'_id': ObjectId('622e3c0efa24ba988444bf8f'), 'firstname': 'John', 'lastname': 'Doe', 'department': 'Analytics', 'qualification': 'statistics', 'age': 35}\n",
      "{'_id': ObjectId('622e3c0efa24ba988444bf92'), 'firstname': 'Rahman', 'lastname': 'Emon', 'department': 'Analytics', 'qualification': 'master', 'age': 24}\n"
     ]
    }
   ],
   "source": [
    "## OR operators\n",
    "for record in empinfo.find({'$or':[{'firstname':'John'},{'qualification':'master'}]}):\n",
    " print(record)"
   ]
  },
  {
   "cell_type": "code",
   "execution_count": 31,
   "metadata": {},
   "outputs": [],
   "source": [
    "inventory=mydb.inventory"
   ]
  },
  {
   "cell_type": "code",
   "execution_count": 32,
   "metadata": {},
   "outputs": [],
   "source": [
    "inventory.insert_many( [\n",
    "   { 'item': \"journal\", 'qty': 25, 'size': { 'h': 14, 'w': 21,'uom': \"cm\" }, 'status': \"A\" },\n",
    "   { 'item': \"notebook\", 'qty': 50,'size': { 'h': 8.5, 'w': 11,'uom': \"in\" },'status': \"A\" },\n",
    "   { 'item': \"paper\", 'qty': 100, 'size': { 'h': 8.5, 'w': 11,'uom': \"in\" },'status': \"D\" },\n",
    "   { 'item': \"planner\", 'qty': 75, 'size': { 'h': 22.85,'w': 30,'uom': \"cm\" },'status': \"D\" },\n",
    "   { 'item': \"postcard\", 'qty': 45, 'size': { 'h': 10, 'w': 15.25,'uom': \"cm\" },'status': \"A\" }\n",
    "]);"
   ]
  },
  {
   "cell_type": "code",
   "execution_count": 33,
   "metadata": {},
   "outputs": [
    {
     "name": "stdout",
     "output_type": "stream",
     "text": [
      "{'_id': ObjectId('622e4329fa24ba988444bf93'), 'item': 'journal', 'qty': 25, 'size': {'h': 14, 'w': 21, 'uom': 'cm'}, 'status': 'A'}\n"
     ]
    }
   ],
   "source": [
    "for record in inventory.find({'size': { 'h': 14, 'w': 21,'uom': \"cm\" }}):\n",
    "  print(record)"
   ]
  },
  {
   "cell_type": "code",
   "execution_count": null,
   "metadata": {},
   "outputs": [],
   "source": []
  }
 ],
 "metadata": {
  "interpreter": {
   "hash": "2be5faf79681da6f2a61fdfdd5405d65d042280f7fba6178067603e3a2925119"
  },
  "kernelspec": {
   "display_name": "Python 3.10.0 64-bit",
   "language": "python",
   "name": "python3"
  },
  "language_info": {
   "codemirror_mode": {
    "name": "ipython",
    "version": 3
   },
   "file_extension": ".py",
   "mimetype": "text/x-python",
   "name": "python",
   "nbconvert_exporter": "python",
   "pygments_lexer": "ipython3",
   "version": "3.10.0"
  },
  "orig_nbformat": 4
 },
 "nbformat": 4,
 "nbformat_minor": 2
}
